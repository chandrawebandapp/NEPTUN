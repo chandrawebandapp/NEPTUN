{
 "cells": [
  {
   "cell_type": "code",
   "execution_count": 7,
   "metadata": {},
   "outputs": [],
   "source": [
    "from collections import defaultdict\n",
    "import pandas as pd\n",
    "import unicodedata\n",
    "from metaphone import doublemetaphone\n",
    "\n",
    "# Load the CSV file\n",
    "df = pd.read_csv(\"files/words_devnagri_root.csv\")\n",
    "\n"
   ]
  },
  {
   "cell_type": "code",
   "execution_count": null,
   "metadata": {},
   "outputs": [],
   "source": []
  },
  {
   "cell_type": "code",
   "execution_count": 8,
   "metadata": {},
   "outputs": [
    {
     "data": {
      "text/html": [
       "<div>\n",
       "<style scoped>\n",
       "    .dataframe tbody tr th:only-of-type {\n",
       "        vertical-align: middle;\n",
       "    }\n",
       "\n",
       "    .dataframe tbody tr th {\n",
       "        vertical-align: top;\n",
       "    }\n",
       "\n",
       "    .dataframe thead th {\n",
       "        text-align: right;\n",
       "    }\n",
       "</style>\n",
       "<table border=\"1\" class=\"dataframe\">\n",
       "  <thead>\n",
       "    <tr style=\"text-align: right;\">\n",
       "      <th></th>\n",
       "      <th>Words</th>\n",
       "      <th>Devanagari</th>\n",
       "      <th>Root</th>\n",
       "    </tr>\n",
       "  </thead>\n",
       "  <tbody>\n",
       "    <tr>\n",
       "      <th>0</th>\n",
       "      <td>xata</td>\n",
       "      <td>छट</td>\n",
       "      <td>छट</td>\n",
       "    </tr>\n",
       "    <tr>\n",
       "      <th>1</th>\n",
       "      <td>xatw</td>\n",
       "      <td>छट</td>\n",
       "      <td>छट</td>\n",
       "    </tr>\n",
       "    <tr>\n",
       "      <th>2</th>\n",
       "      <td>xodyo</td>\n",
       "      <td>छोड्यो</td>\n",
       "      <td>छोड्यो</td>\n",
       "    </tr>\n",
       "    <tr>\n",
       "      <th>3</th>\n",
       "      <td>xoto</td>\n",
       "      <td>छोटो</td>\n",
       "      <td>छोटो</td>\n",
       "    </tr>\n",
       "    <tr>\n",
       "      <th>4</th>\n",
       "      <td>sidhai</td>\n",
       "      <td>सिधै</td>\n",
       "      <td>सिधा</td>\n",
       "    </tr>\n",
       "  </tbody>\n",
       "</table>\n",
       "</div>"
      ],
      "text/plain": [
       "    Words Devanagari     Root\n",
       "0    xata         छट       छट\n",
       "1    xatw         छट       छट\n",
       "2   xodyo     छोड्यो   छोड्यो\n",
       "3    xoto       छोटो     छोटो\n",
       "4  sidhai       सिधै     सिधा"
      ]
     },
     "execution_count": 8,
     "metadata": {},
     "output_type": "execute_result"
    }
   ],
   "source": [
    "df.head()"
   ]
  },
  {
   "cell_type": "code",
   "execution_count": 9,
   "metadata": {},
   "outputs": [
    {
     "name": "stdout",
     "output_type": "stream",
     "text": [
      "Phonetic Code: ST -> Romanized: ['xodyo', 'sayad', 'swaad', 'xoto', 'xito', 'xatw', 'sidhai', 'xata', 'siddai', 'sutae', 'sidai', 'sidha'], Root: [' सुते', ' छट', ' सिधा', ' छोड्यो', ' सिधा ', ' छिटो', 'स्वाद', ' छोटो', ' सायद']\n",
      "Phonetic Code: KT -> Romanized: ['chhito'], Root: [' छिटो']\n",
      "Phonetic Code: FR -> Romanized: ['feri', 'vaera', 'pheri', 'vayeraw', 'vayerw', 'vayera', 'vayara'], Root: [' फेरी', ' भएर']\n",
      "Phonetic Code: PR -> Romanized: ['puraa', 'purae', 'pareyo', 'paurai', 'pariyo', 'bhayera', 'paryo', 'paryoo', 'bhaera'], Root: [' पुरा', ' पर्यो', ' भएर']\n"
     ]
    }
   ],
   "source": [
    "# Function to normalize text to ASCII\n",
    "def normalize_to_ascii(word):\n",
    "    return ''.join(\n",
    "        (c for c in unicodedata.normalize('NFD', word) if unicodedata.category(c) != 'Mn')\n",
    "    ).encode('ascii', 'ignore').decode('ascii')\n",
    "\n",
    "# Dictionary to group both Romanized and Devanagari words\n",
    "nepali_phonetic_groups = defaultdict(lambda: {\"Words\": set(), \"Root\": set()})\n",
    "\n",
    "# Iterate over rows to group by Double Metaphone\n",
    "for _, row in df.iterrows():\n",
    "    roman = row[\"Words\"]\n",
    "    dev = row[\"Root\"]\n",
    "    normalized_word = normalize_to_ascii(roman)\n",
    "    primary_code, secondary_code = doublemetaphone(normalized_word)\n",
    "\n",
    "    # Choose primary code if available, otherwise fallback to secondary\n",
    "    phonetic_code = primary_code or secondary_code\n",
    "\n",
    "    if phonetic_code and len(phonetic_code) > 0:\n",
    "        nepali_phonetic_groups[phonetic_code][\"Words\"].add(roman)\n",
    "        nepali_phonetic_groups[phonetic_code][\"Root\"].add(dev)\n",
    "\n",
    "# Convert sets to lists and print the results\n",
    "for phonetic_code, groups in nepali_phonetic_groups.items():\n",
    "    romanized_list = list(groups[\"Words\"])\n",
    "    devnagari_list = list(groups[\"Root\"])\n",
    "    print(f\"Phonetic Code: {phonetic_code} -> Romanized: {romanized_list}, Root: {devnagari_list}\")\n"
   ]
  },
  {
   "cell_type": "code",
   "execution_count": 11,
   "metadata": {},
   "outputs": [
    {
     "name": "stdout",
     "output_type": "stream",
     "text": [
      "\n",
      "Total Groups: 4\n",
      "Passed Groups (One Unique Devanagari): 1\n",
      "Failed Groups (Multiple Devanagari): 3\n",
      "Phonetic Accuracy (Double Metaphone): 25.00%\n"
     ]
    }
   ],
   "source": [
    "# Accuracy Evaluation\n",
    "total_groups = len(nepali_phonetic_groups)\n",
    "passed_groups = sum(1 for group in nepali_phonetic_groups.values() if len(group[\"Root\"]) == 1)\n",
    "failed_groups = total_groups - passed_groups\n",
    "accuracy = (passed_groups / total_groups) * 100 if total_groups else 0\n",
    "\n",
    "print(f\"\\nTotal Groups: {total_groups}\")\n",
    "print(f\"Passed Groups (One Unique Devanagari): {passed_groups}\")\n",
    "print(f\"Failed Groups (Multiple Devanagari): {failed_groups}\")\n",
    "print(f\"Phonetic Accuracy (Double Metaphone): {accuracy:.2f}%\")\n"
   ]
  },
  {
   "cell_type": "code",
   "execution_count": null,
   "metadata": {},
   "outputs": [],
   "source": []
  }
 ],
 "metadata": {
  "kernelspec": {
   "display_name": "venv",
   "language": "python",
   "name": "python3"
  },
  "language_info": {
   "codemirror_mode": {
    "name": "ipython",
    "version": 3
   },
   "file_extension": ".py",
   "mimetype": "text/x-python",
   "name": "python",
   "nbconvert_exporter": "python",
   "pygments_lexer": "ipython3",
   "version": "3.10.6"
  }
 },
 "nbformat": 4,
 "nbformat_minor": 2
}
