{
 "cells": [
  {
   "cell_type": "code",
   "execution_count": 9,
   "metadata": {},
   "outputs": [],
   "source": [
    "from collections import defaultdict\n",
    "from fuzzy import Soundex\n",
    "import pandas as pd\n",
    "import unicodedata\n",
    "\n",
    "# Load the CSV file\n",
    "df = pd.read_csv(\"files/words_devnagri_root.csv\")\n",
    "\n",
    "\n"
   ]
  },
  {
   "cell_type": "code",
   "execution_count": 10,
   "metadata": {},
   "outputs": [
    {
     "data": {
      "text/html": [
       "<div>\n",
       "<style scoped>\n",
       "    .dataframe tbody tr th:only-of-type {\n",
       "        vertical-align: middle;\n",
       "    }\n",
       "\n",
       "    .dataframe tbody tr th {\n",
       "        vertical-align: top;\n",
       "    }\n",
       "\n",
       "    .dataframe thead th {\n",
       "        text-align: right;\n",
       "    }\n",
       "</style>\n",
       "<table border=\"1\" class=\"dataframe\">\n",
       "  <thead>\n",
       "    <tr style=\"text-align: right;\">\n",
       "      <th></th>\n",
       "      <th>Words</th>\n",
       "      <th>Devanagari</th>\n",
       "      <th>Root</th>\n",
       "    </tr>\n",
       "  </thead>\n",
       "  <tbody>\n",
       "    <tr>\n",
       "      <th>0</th>\n",
       "      <td>xata</td>\n",
       "      <td>छट</td>\n",
       "      <td>छट</td>\n",
       "    </tr>\n",
       "    <tr>\n",
       "      <th>1</th>\n",
       "      <td>xatw</td>\n",
       "      <td>छट</td>\n",
       "      <td>छट</td>\n",
       "    </tr>\n",
       "    <tr>\n",
       "      <th>2</th>\n",
       "      <td>xodyo</td>\n",
       "      <td>छोड्यो</td>\n",
       "      <td>छोड्यो</td>\n",
       "    </tr>\n",
       "    <tr>\n",
       "      <th>3</th>\n",
       "      <td>xoto</td>\n",
       "      <td>छोटो</td>\n",
       "      <td>छोटो</td>\n",
       "    </tr>\n",
       "    <tr>\n",
       "      <th>4</th>\n",
       "      <td>sidhai</td>\n",
       "      <td>सिधै</td>\n",
       "      <td>सिधा</td>\n",
       "    </tr>\n",
       "  </tbody>\n",
       "</table>\n",
       "</div>"
      ],
      "text/plain": [
       "    Words Devanagari     Root\n",
       "0    xata         छट       छट\n",
       "1    xatw         छट       छट\n",
       "2   xodyo     छोड्यो   छोड्यो\n",
       "3    xoto       छोटो     छोटो\n",
       "4  sidhai       सिधै     सिधा"
      ]
     },
     "execution_count": 10,
     "metadata": {},
     "output_type": "execute_result"
    }
   ],
   "source": [
    "df.head()"
   ]
  },
  {
   "cell_type": "code",
   "execution_count": 11,
   "metadata": {},
   "outputs": [
    {
     "name": "stdout",
     "output_type": "stream",
     "text": [
      "Phonetic Code: X3 -> Romanized: ['xata', 'xoto', 'xatw', 'xito', 'xodyo'], Devanagari: [' छोटो', 'छोड्यो', ' छट', ' छिटो', 'छट']\n",
      "Phonetic Code: S3 -> Romanized: ['sidha', 'sutae', 'swaad', 'sidhai', 'sidai', 'sayad', 'siddai'], Devanagari: [' सिधै', 'सिधै', 'सुते', 'सायद', ' स्वाद', ' सिधा']\n",
      "Phonetic Code: C3 -> Romanized: ['chhito'], Devanagari: ['छिटो']\n",
      "Phonetic Code: F6 -> Romanized: ['feri'], Devanagari: ['फेरी']\n",
      "Phonetic Code: P6 -> Romanized: ['pareyo', 'paurai', 'puraa', 'pheri', 'purae', 'paryo', 'pariyo', 'paryoo'], Devanagari: [' पुरै', ' पर्यो', ' फेरी', ' परियो', 'पुरा']\n",
      "Phonetic Code: V6 -> Romanized: ['vayera', 'vayara', 'vayerw', 'vayeraw', 'vaera'], Devanagari: ['भएर', ' भएर']\n",
      "Phonetic Code: B6 -> Romanized: ['bhayera', 'bhaera'], Devanagari: ['भएर', ' भएर']\n"
     ]
    }
   ],
   "source": [
    "# Initialize Soundex instance\n",
    "soundex = Soundex(4)\n",
    "\n",
    "# Function to normalize text to ASCII\n",
    "def normalize_to_ascii(word):\n",
    "    return ''.join(\n",
    "        (c for c in unicodedata.normalize('NFD', word) if unicodedata.category(c) != 'Mn')\n",
    "    ).encode('ascii', 'ignore').decode('ascii')\n",
    "\n",
    "# Dictionary to group both Romanized and Devanagari words\n",
    "nepali_phonetic_groups = defaultdict(lambda: {\"Words\": set(), \"Devanagari\": set()})\n",
    "\n",
    "# Iterate over rows to group by Soundex\n",
    "for _, row in df.iterrows():\n",
    "    roman = row[\"Words\"]\n",
    "    dev = row[\"Devanagari\"]\n",
    "    normalized_word = normalize_to_ascii(roman)\n",
    "    phonetic_code = soundex(normalized_word)\n",
    "    if phonetic_code and len(phonetic_code) > 0:\n",
    "        nepali_phonetic_groups[phonetic_code][\"Words\"].add(roman)\n",
    "        nepali_phonetic_groups[phonetic_code][\"Devanagari\"].add(dev)\n",
    "\n",
    "# Convert sets to lists and print the results\n",
    "for phonetic_code, groups in nepali_phonetic_groups.items():\n",
    "    romanized_list = list(groups[\"Words\"])\n",
    "    devnagari_list = list(groups[\"Devanagari\"])\n",
    "    print(f\"Phonetic Code: {phonetic_code} -> Romanized: {romanized_list}, Devanagari: {devnagari_list}\")"
   ]
  },
  {
   "cell_type": "code",
   "execution_count": 12,
   "metadata": {},
   "outputs": [
    {
     "name": "stdout",
     "output_type": "stream",
     "text": [
      "\n",
      "Total Valid Groups: 7\n",
      "Passed Groups (One Unique Devanagari): 2\n",
      "Failed Groups (Multiple Devanagari): 5\n",
      "Phonetic Accuracy: 28.57%\n"
     ]
    }
   ],
   "source": [
    "# Filter out groups with empty 'Words'\n",
    "valid_groups = {k: v for k, v in nepali_phonetic_groups.items() if v[\"Words\"]}\n",
    "\n",
    "# Initialize counters\n",
    "total_groups = len(valid_groups)\n",
    "passed_groups = 0\n",
    "failed_groups = 0\n",
    "\n",
    "# Evaluate each valid group\n",
    "for code, group in valid_groups.items():\n",
    "    if len(group[\"Devanagari\"]) == 1:\n",
    "        passed_groups += 1\n",
    "    else:\n",
    "        failed_groups += 1\n",
    "\n",
    "# Calculate accuracy\n",
    "accuracy = (passed_groups / total_groups) * 100 if total_groups > 0 else 0\n",
    "\n",
    "# Print results\n",
    "print(f\"\\nTotal Valid Groups: {total_groups}\")\n",
    "print(f\"Passed Groups (One Unique Devanagari): {passed_groups}\")\n",
    "print(f\"Failed Groups (Multiple Devanagari): {failed_groups}\")\n",
    "print(f\"Phonetic Accuracy: {accuracy:.2f}%\")"
   ]
  },
  {
   "cell_type": "code",
   "execution_count": 13,
   "metadata": {},
   "outputs": [],
   "source": [
    "import pandas as pd\n",
    "\n",
    "data = []\n",
    "for phonetic_code, groups in nepali_phonetic_groups.items():\n",
    "    romanized_list = list(groups[\"Words\"])\n",
    "    devnagari_list = list(groups[\"Devanagari\"])\n",
    "    data.append({\n",
    "        \"Phonetic Code\": phonetic_code,\n",
    "        \"Romanized\": romanized_list,\n",
    "        \"Devanagari\": devnagari_list\n",
    "    })\n",
    "\n",
    "# Create DataFrame\n",
    "df = pd.DataFrame(data)\n",
    "\n",
    "# Save to CSV\n",
    "df.to_csv(\"results/soundex_phonetic_groups.csv\", index=False, encoding=\"utf-8\")\n"
   ]
  },
  {
   "cell_type": "code",
   "execution_count": null,
   "metadata": {},
   "outputs": [],
   "source": []
  }
 ],
 "metadata": {
  "kernelspec": {
   "display_name": "venv",
   "language": "python",
   "name": "python3"
  },
  "language_info": {
   "codemirror_mode": {
    "name": "ipython",
    "version": 3
   },
   "file_extension": ".py",
   "mimetype": "text/x-python",
   "name": "python",
   "nbconvert_exporter": "python",
   "pygments_lexer": "ipython3",
   "version": "3.10.6"
  }
 },
 "nbformat": 4,
 "nbformat_minor": 2
}
